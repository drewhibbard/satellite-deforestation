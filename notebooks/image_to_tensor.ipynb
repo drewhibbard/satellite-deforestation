{
 "cells": [
  {
   "cell_type": "code",
   "execution_count": 1,
   "metadata": {},
   "outputs": [],
   "source": [
    "import numpy as np\n",
    "import PIL\n",
    "import keras\n",
    "from keras.preprocessing import image\n",
    "import os\n",
    "import pickle\n",
    "import h5py"
   ]
  },
  {
   "cell_type": "code",
   "execution_count": 2,
   "metadata": {},
   "outputs": [],
   "source": [
    "# zero pad every file to 5 digits because Google Drive sorts things differently\n",
    "def rename_file(image):\n",
    "    num = image.split('_')[1].split('.')[0]\n",
    "    new = num.zfill(5)\n",
    "    os.rename(image,f'train_{new}.jpg')"
   ]
  },
  {
   "cell_type": "code",
   "execution_count": 3,
   "metadata": {},
   "outputs": [],
   "source": [
    "# for file in os.listdir():\n",
    "#     rename_file(file)"
   ]
  },
  {
   "cell_type": "code",
   "execution_count": 4,
   "metadata": {},
   "outputs": [],
   "source": [
    "# load each image, resized to 224x224 pixels to match the ResNet50 and VGG 16 model requirements \n",
    "# and convert each to a 3d array\n",
    "\n",
    "os.chdir('../data/train-jpg2')\n",
    "arr_list = []\n",
    "for file in sorted(os.listdir()):\n",
    "    if file.endswith('.jpg'):\n",
    "        img = image.load_img(file,target_size=(224,224))\n",
    "        # standardize pixel values based on 255 possible RGB values\n",
    "        arr = image.img_to_array(img) * (1.0/255.0)  \n",
    "        arr_list.append(arr)"
   ]
  },
  {
   "cell_type": "code",
   "execution_count": 5,
   "metadata": {},
   "outputs": [],
   "source": [
    "# stack 3D arrays to become a 4D array\n",
    "tensor = np.stack([a for a in arr_list])"
   ]
  },
  {
   "cell_type": "code",
   "execution_count": 6,
   "metadata": {},
   "outputs": [],
   "source": [
    "del arr_list"
   ]
  },
  {
   "cell_type": "code",
   "execution_count": 7,
   "metadata": {},
   "outputs": [
    {
     "output_type": "execute_result",
     "data": {
      "text/plain": [
       "(40479, 32, 32, 3)"
      ]
     },
     "metadata": {},
     "execution_count": 7
    }
   ],
   "source": [
    "tensor.shape"
   ]
  },
  {
   "cell_type": "code",
   "execution_count": 8,
   "metadata": {},
   "outputs": [],
   "source": [
    "from sklearn.model_selection import train_test_split\n",
    "import pandas as pd\n",
    "from sklearn.feature_extraction.text import CountVectorizer"
   ]
  },
  {
   "cell_type": "code",
   "execution_count": 9,
   "metadata": {},
   "outputs": [],
   "source": [
    "# turn the image tags into 17-class count vectorized matrix\n",
    "df = pd.read_csv('../../data/train_v2.csv')"
   ]
  },
  {
   "cell_type": "code",
   "execution_count": 10,
   "metadata": {},
   "outputs": [],
   "source": [
    "cv = CountVectorizer()\n",
    "y = cv.fit_transform(df.tags).toarray()"
   ]
  },
  {
   "cell_type": "code",
   "execution_count": 11,
   "metadata": {},
   "outputs": [],
   "source": [
    "y[y==2] = 1"
   ]
  },
  {
   "cell_type": "code",
   "execution_count": 12,
   "metadata": {},
   "outputs": [],
   "source": [
    "# split and then write arrays to hdf5 file\n",
    "X_train, X_test, y_train, y_test = train_test_split(tensor,y,test_size=0.25,random_state=23)"
   ]
  },
  {
   "cell_type": "code",
   "execution_count": 13,
   "metadata": {},
   "outputs": [
    {
     "output_type": "execute_result",
     "data": {
      "text/plain": [
       "<HDF5 dataset \"y_test\": shape (10120, 17), type \"<i8\">"
      ]
     },
     "metadata": {},
     "execution_count": 13
    }
   ],
   "source": [
    "os.chdir('..')\n",
    "f = h5py.File('tensors_32.h5','w') \n",
    "f.create_dataset('X_train',data=X_train)\n",
    "f.create_dataset('X_test',data=X_test)\n",
    "f.create_dataset('y_train',data=y_train)\n",
    "f.create_dataset('y_test',data=y_test)"
   ]
  },
  {
   "cell_type": "code",
   "execution_count": 14,
   "metadata": {},
   "outputs": [],
   "source": [
    "f.close()"
   ]
  },
  {
   "cell_type": "code",
   "execution_count": null,
   "metadata": {},
   "outputs": [],
   "source": []
  }
 ],
 "metadata": {
  "kernelspec": {
   "display_name": "Python 3",
   "language": "python",
   "name": "python3"
  },
  "language_info": {
   "codemirror_mode": {
    "name": "ipython",
    "version": 3
   },
   "file_extension": ".py",
   "mimetype": "text/x-python",
   "name": "python",
   "nbconvert_exporter": "python",
   "pygments_lexer": "ipython3",
   "version": "3.8.5-final"
  }
 },
 "nbformat": 4,
 "nbformat_minor": 4
}